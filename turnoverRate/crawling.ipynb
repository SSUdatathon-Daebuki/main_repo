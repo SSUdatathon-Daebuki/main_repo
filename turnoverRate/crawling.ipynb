{
  "nbformat": 4,
  "nbformat_minor": 0,
  "metadata": {
    "colab": {
      "provenance": []
    },
    "kernelspec": {
      "name": "python3",
      "display_name": "Python 3"
    },
    "language_info": {
      "name": "python"
    }
  },
  "cells": [
    {
      "cell_type": "code",
      "execution_count": null,
      "metadata": {
        "id": "0cApFLP3nY6e"
      },
      "outputs": [],
      "source": [
        "url = 'http://www.youkrackbooks.com'"
      ]
    },
    {
      "cell_type": "markdown",
      "source": [
        "# 정적크롤링으로 안됨!!!!!\n",
        "# 그래서 밑에 동적 크롤링 코드 짜기로 함."
      ],
      "metadata": {
        "id": "rBvpsH8KQrO2"
      }
    },
    {
      "cell_type": "code",
      "source": [
        "!pip install selenium\n",
        "!cp '/content/drive/MyDrive/데이터톤2024/chromedriver' '/usr/local/bin/chromedriver'"
      ],
      "metadata": {
        "colab": {
          "base_uri": "https://localhost:8080/"
        },
        "id": "VxW4bfFybOxV",
        "outputId": "59a45c03-a842-4385-8548-461ad51d0ca5"
      },
      "execution_count": null,
      "outputs": [
        {
          "output_type": "stream",
          "name": "stdout",
          "text": [
            "Collecting selenium\n",
            "  Downloading selenium-4.28.1-py3-none-any.whl.metadata (7.1 kB)\n",
            "Requirement already satisfied: urllib3<3,>=1.26 in /usr/local/lib/python3.11/dist-packages (from urllib3[socks]<3,>=1.26->selenium) (2.3.0)\n",
            "Collecting trio~=0.17 (from selenium)\n",
            "  Downloading trio-0.28.0-py3-none-any.whl.metadata (8.5 kB)\n",
            "Collecting trio-websocket~=0.9 (from selenium)\n",
            "  Downloading trio_websocket-0.11.1-py3-none-any.whl.metadata (4.7 kB)\n",
            "Requirement already satisfied: certifi>=2021.10.8 in /usr/local/lib/python3.11/dist-packages (from selenium) (2024.12.14)\n",
            "Requirement already satisfied: typing_extensions~=4.9 in /usr/local/lib/python3.11/dist-packages (from selenium) (4.12.2)\n",
            "Requirement already satisfied: websocket-client~=1.8 in /usr/local/lib/python3.11/dist-packages (from selenium) (1.8.0)\n",
            "Requirement already satisfied: attrs>=23.2.0 in /usr/local/lib/python3.11/dist-packages (from trio~=0.17->selenium) (25.1.0)\n",
            "Collecting sortedcontainers (from trio~=0.17->selenium)\n",
            "  Downloading sortedcontainers-2.4.0-py2.py3-none-any.whl.metadata (10 kB)\n",
            "Requirement already satisfied: idna in /usr/local/lib/python3.11/dist-packages (from trio~=0.17->selenium) (3.10)\n",
            "Collecting outcome (from trio~=0.17->selenium)\n",
            "  Downloading outcome-1.3.0.post0-py2.py3-none-any.whl.metadata (2.6 kB)\n",
            "Requirement already satisfied: sniffio>=1.3.0 in /usr/local/lib/python3.11/dist-packages (from trio~=0.17->selenium) (1.3.1)\n",
            "Collecting wsproto>=0.14 (from trio-websocket~=0.9->selenium)\n",
            "  Downloading wsproto-1.2.0-py3-none-any.whl.metadata (5.6 kB)\n",
            "Requirement already satisfied: pysocks!=1.5.7,<2.0,>=1.5.6 in /usr/local/lib/python3.11/dist-packages (from urllib3[socks]<3,>=1.26->selenium) (1.7.1)\n",
            "Requirement already satisfied: h11<1,>=0.9.0 in /usr/local/lib/python3.11/dist-packages (from wsproto>=0.14->trio-websocket~=0.9->selenium) (0.14.0)\n",
            "Downloading selenium-4.28.1-py3-none-any.whl (9.5 MB)\n",
            "\u001b[2K   \u001b[90m━━━━━━━━━━━━━━━━━━━━━━━━━━━━━━━━━━━━━━━━\u001b[0m \u001b[32m9.5/9.5 MB\u001b[0m \u001b[31m51.2 MB/s\u001b[0m eta \u001b[36m0:00:00\u001b[0m\n",
            "\u001b[?25hDownloading trio-0.28.0-py3-none-any.whl (486 kB)\n",
            "\u001b[2K   \u001b[90m━━━━━━━━━━━━━━━━━━━━━━━━━━━━━━━━━━━━━━━━\u001b[0m \u001b[32m486.3/486.3 kB\u001b[0m \u001b[31m26.0 MB/s\u001b[0m eta \u001b[36m0:00:00\u001b[0m\n",
            "\u001b[?25hDownloading trio_websocket-0.11.1-py3-none-any.whl (17 kB)\n",
            "Downloading wsproto-1.2.0-py3-none-any.whl (24 kB)\n",
            "Downloading outcome-1.3.0.post0-py2.py3-none-any.whl (10 kB)\n",
            "Downloading sortedcontainers-2.4.0-py2.py3-none-any.whl (29 kB)\n",
            "Installing collected packages: sortedcontainers, wsproto, outcome, trio, trio-websocket, selenium\n",
            "Successfully installed outcome-1.3.0.post0 selenium-4.28.1 sortedcontainers-2.4.0 trio-0.28.0 trio-websocket-0.11.1 wsproto-1.2.0\n"
          ]
        }
      ]
    },
    {
      "cell_type": "code",
      "source": [
        "from selenium import webdriver\n",
        "from selenium.webdriver.chrome.service import Service\n",
        "from selenium.webdriver.common.by import By\n",
        "from selenium.webdriver.common.keys import Keys\n",
        "from tqdm import tqdm\n",
        "import time\n",
        "import sys"
      ],
      "metadata": {
        "id": "Lk_vcXHwQx2N"
      },
      "execution_count": null,
      "outputs": []
    },
    {
      "cell_type": "code",
      "source": [
        "chrome_options = webdriver.ChromeOptions()\n",
        "chrome_options.add_argument('--headless')\n",
        "chrome_options.add_argument('--no-sandbox')\n",
        "chrome_options.add_argument('--disable-dev-shm-usage')\n"
      ],
      "metadata": {
        "id": "-YXiH1OTUvfE"
      },
      "execution_count": null,
      "outputs": []
    },
    {
      "cell_type": "code",
      "source": [
        "driver = webdriver.Chrome(options=chrome_options)\n",
        "driver.get(url)\n",
        "time.sleep(1)\n",
        "driver.find_elements(By.TAG_NAME, \"button\")[1].send_keys(Keys.ENTER)\n",
        "time.sleep(1)\n",
        "# # 제목이 길면 ...으로 되는 버전\n",
        "titles=driver.find_elements(By.XPATH, '//*[@id=\"page-wrap\"]/div[2]/div[4]/ul/li/div/ul/li[2]/h1/a')\n",
        "# authors = driver.find_elements(By.XPATH, '//*[@id=\"page-wrap\"]/div[2]/div[4]/ul/li/div/ul/li[3]')\n",
        "# for title, author in zip(titles, authors):\n",
        "#     print(f\"Title:{title.text}, Author:{author.text}\")\n",
        "\n",
        "# 제목이 무조건 다 나오는 버전\n",
        "books = []\n",
        "for i in range(len(titles)):\n",
        "    link = driver.find_element(By.XPATH,f'//*[@id=\"page-wrap\"]/div[2]/div[4]/ul/li[{i+1}]/div/ul/li[1]/a')\n",
        "    link.send_keys(Keys.ENTER)\n",
        "    time.sleep(1)\n",
        "    title = driver.find_element(By.XPATH, '//*[@id=\"page-wrap\"]/div[2]/div[3]/div[1]/ul/li[2]/div/ul[1]/li/h1').text\n",
        "    author = driver.find_element(By.XPATH, '//*[@id=\"page-wrap\"]/div[2]/div[3]/div[1]/ul/li[2]/div/ul[3]/li[1]').text\n",
        "    books.append({\"title\": title, \"author\" : author})\n",
        "    driver.back()\n",
        "print(books)\n",
        "driver.close()"
      ],
      "metadata": {
        "id": "6jTZd0UWRPq2",
        "colab": {
          "base_uri": "https://localhost:8080/"
        },
        "outputId": "94a7af28-8107-4736-a1ed-eb69ac33b534"
      },
      "execution_count": null,
      "outputs": [
        {
          "output_type": "stream",
          "name": "stdout",
          "text": [
            "[{'title': '시간속의 죽음 공간을 통해 만나다 [글누림출판사 도서]', 'author': '저자 : 서지석·고진호'}, {'title': '일본의 소설과 소년범죄', 'author': '저자 : 남상현'}, {'title': '19세기~20세기 초 부산 지역 한시(漢詩) 작가들의 시적(詩的) 교류', 'author': '저자 : 엄경흠'}, {'title': '당어림唐語林 4 (한국연구재단 학술명저번역총서 동양편 335)', 'author': '저자 : 왕당(王讜)'}, {'title': '당어림唐語林 3 (한국연구재단 학술명저번역총서 동양편 334)', 'author': '저자 : 왕당(王讜)'}]\n"
          ]
        }
      ]
    },
    {
      "cell_type": "code",
      "source": [
        "url = 'https://www.snupress.com/book/new'"
      ],
      "metadata": {
        "id": "EbSwjL11Z3GX"
      },
      "execution_count": null,
      "outputs": []
    },
    {
      "cell_type": "code",
      "source": [
        "driver = webdriver.Chrome(options=chrome_options)\n",
        "driver.get(url)\n",
        "time.sleep(1)\n",
        "\n",
        "page_len = len(driver.find_element(By.CLASS_NAME, 'sort-box').find_elements(By.CLASS_NAME, 'page-item'))\n",
        "for page in tqdm(range(1, page_len-1), leave=False):\n",
        "    driver.get(url+f'?page={page}')\n",
        "    time.sleep(1)\n",
        "    len_booklist = len(driver.find_elements(By.CLASS_NAME, 'list-textbox'))\n",
        "    for i in tqdm(range(len_booklist), leave=False):\n",
        "        booklist = driver.find_elements(By.CLASS_NAME, 'list-textbox')[i].find_element(By.TAG_NAME, 'a')\n",
        "        booklist.click()\n",
        "        time.sleep(1)\n",
        "\n",
        "        title = driver.find_element(By.CLASS_NAME, 'tit').text\n",
        "        author = driver.find_element(By.CLASS_NAME, 'writer').text\n",
        "\n",
        "        if '[' in author:\n",
        "            author = author.split('[')[0]\n",
        "        else:\n",
        "            author = \"\"\n",
        "        books.append({'title': title, 'author': author})\n",
        "        driver.back()\n",
        "        time.sleep(1)\n",
        "    print(f\"until page 1 books: {books}\")\n",
        "print(books)\n",
        "driver.close()"
      ],
      "metadata": {
        "colab": {
          "base_uri": "https://localhost:8080/"
        },
        "id": "7rRezI34p5d5",
        "outputId": "0c94d324-aa84-4b40-b886-1aaa235b7aef"
      },
      "execution_count": null,
      "outputs": [
        {
          "output_type": "stream",
          "name": "stderr",
          "text": [
            "  0%|          | 0/3 [00:00<?, ?it/s]\n",
            "  0%|          | 0/20 [00:00<?, ?it/s]\u001b[A\n",
            "  5%|▌         | 1/20 [00:06<02:10,  6.87s/it]\u001b[A\n",
            " 10%|█         | 2/20 [00:14<02:06,  7.04s/it]\u001b[A\n",
            " 15%|█▌        | 3/20 [00:20<01:58,  6.96s/it]\u001b[A\n",
            " 20%|██        | 4/20 [00:28<01:56,  7.27s/it]\u001b[A\n",
            " 25%|██▌       | 5/20 [00:37<01:57,  7.81s/it]\u001b[A\n",
            " 30%|███       | 6/20 [00:44<01:44,  7.45s/it]\u001b[A\n",
            " 35%|███▌      | 7/20 [00:51<01:35,  7.34s/it]\u001b[A\n",
            " 40%|████      | 8/20 [00:58<01:26,  7.18s/it]\u001b[A\n",
            " 45%|████▌     | 9/20 [01:05<01:19,  7.25s/it]\u001b[A\n",
            " 50%|█████     | 10/20 [01:12<01:12,  7.23s/it]\u001b[A\n",
            " 55%|█████▌    | 11/20 [01:20<01:05,  7.32s/it]\u001b[A\n",
            " 60%|██████    | 12/20 [01:27<00:59,  7.39s/it]\u001b[A\n",
            " 65%|██████▌   | 13/20 [01:35<00:53,  7.57s/it]\u001b[A\n",
            " 70%|███████   | 14/20 [01:43<00:45,  7.57s/it]\u001b[A\n",
            " 75%|███████▌  | 15/20 [01:50<00:36,  7.36s/it]\u001b[A\n",
            " 80%|████████  | 16/20 [01:57<00:28,  7.19s/it]\u001b[A\n",
            " 85%|████████▌ | 17/20 [02:03<00:20,  6.91s/it]\u001b[A\n",
            " 90%|█████████ | 18/20 [02:10<00:14,  7.06s/it]\u001b[A\n",
            " 95%|█████████▌| 19/20 [02:18<00:07,  7.24s/it]\u001b[A\n",
            "100%|██████████| 20/20 [02:27<00:00,  7.36s/it]\n",
            " 33%|███▎      | 1/3 [02:30<05:00, 150.10s/it]"
          ]
        },
        {
          "output_type": "stream",
          "name": "stdout",
          "text": [
            "until page 1 books: [{'title': '시간속의 죽음 공간을 통해 만나다 [글누림출판사 도서]', 'author': '저자 : 서지석·고진호'}, {'title': '일본의 소설과 소년범죄', 'author': '저자 : 남상현'}, {'title': '19세기~20세기 초 부산 지역 한시(漢詩) 작가들의 시적(詩的) 교류', 'author': '저자 : 엄경흠'}, {'title': '당어림唐語林 4 (한국연구재단 학술명저번역총서 동양편 335)', 'author': '저자 : 왕당(王讜)'}, {'title': '당어림唐語林 3 (한국연구재단 학술명저번역총서 동양편 334)', 'author': '저자 : 왕당(王讜)'}, {'title': '노화를 극복하는 동물들', 'author': '백승준 '}, {'title': 'Military Sexual Slavery by Imperial Japan', 'author': '정진성 '}, {'title': '관자', 'author': '송영배 '}, {'title': '산과의 대화', 'author': '최덕근 '}, {'title': '나의 학문, 나의 삶 9', 'author': '양창수, 윤정일, 이형식, 장창두, 전경수, 허성도 '}, {'title': '뇌졸중', 'author': ''}, {'title': '뇌종양', 'author': '박철기 '}, {'title': '소설신론(개정판)', 'author': ''}, {'title': '대전환', 'author': '노의근, 박흥식 '}, {'title': 'Forensic Anthropology and Human Identification on the Cases', 'author': '이숭덕, 신동훈 '}, {'title': 'The Politics of Memory in Socialist Vietnam(ePub)', 'author': 'Martin Grossheim '}, {'title': '사회·문화적 텍스트로 읽는 한국 창작 오페라', 'author': '오희숙, 강지영, 지형주 '}, {'title': '평양 자료의 기초 연구: 읍지와 시문(詩文)을 중심으로', 'author': '이은주 '}, {'title': '선물론l마르셀 모스l', 'author': '오명석 '}, {'title': '프래그매틱스', 'author': '백기복 '}, {'title': '두경부암', 'author': '안순현 '}, {'title': '다시 경영을 읽다', 'author': '배종훈 '}, {'title': 'interRAI 체크업(CU) 평가 도구, 부가 도구, 자가보고 도구', 'author': '김홍수 '}, {'title': '기초 스페인어 1', 'author': '손지은, 오민욱, 정원석, 황지희 '}, {'title': '디지털.AI 전환', 'author': '이병기 '}]\n"
          ]
        },
        {
          "output_type": "stream",
          "name": "stderr",
          "text": [
            "\n",
            "  0%|          | 0/20 [00:00<?, ?it/s]\u001b[A\n",
            "  5%|▌         | 1/20 [00:07<02:17,  7.24s/it]\u001b[A\n",
            " 10%|█         | 2/20 [00:14<02:15,  7.50s/it]\u001b[A\n",
            " 15%|█▌        | 3/20 [00:21<02:03,  7.26s/it]\u001b[A\n",
            " 20%|██        | 4/20 [00:30<02:03,  7.74s/it]\u001b[A\n",
            " 25%|██▌       | 5/20 [00:36<01:49,  7.30s/it]\u001b[A\n",
            " 30%|███       | 6/20 [00:43<01:40,  7.14s/it]\u001b[A\n",
            " 35%|███▌      | 7/20 [00:51<01:33,  7.20s/it]\u001b[A\n",
            " 40%|████      | 8/20 [01:04<01:52,  9.33s/it]\u001b[A\n",
            " 45%|████▌     | 9/20 [01:12<01:38,  8.92s/it]\u001b[A\n",
            " 50%|█████     | 10/20 [01:19<01:21,  8.17s/it]\u001b[A\n",
            " 55%|█████▌    | 11/20 [01:27<01:12,  8.07s/it]\u001b[A\n",
            " 60%|██████    | 12/20 [01:34<01:02,  7.81s/it]\u001b[A\n",
            " 65%|██████▌   | 13/20 [01:41<00:53,  7.61s/it]\u001b[A\n",
            " 70%|███████   | 14/20 [01:48<00:44,  7.39s/it]\u001b[A\n",
            " 75%|███████▌  | 15/20 [01:55<00:36,  7.22s/it]\u001b[A\n",
            " 80%|████████  | 16/20 [02:03<00:29,  7.36s/it]\u001b[A\n",
            " 85%|████████▌ | 17/20 [02:10<00:21,  7.33s/it]\u001b[A\n",
            " 90%|█████████ | 18/20 [02:17<00:14,  7.38s/it]\u001b[A\n",
            " 95%|█████████▌| 19/20 [02:26<00:07,  7.88s/it]\u001b[A\n",
            "100%|██████████| 20/20 [02:34<00:00,  7.73s/it]\n",
            " 67%|██████▋   | 2/3 [05:10<02:35, 155.96s/it]"
          ]
        },
        {
          "output_type": "stream",
          "name": "stdout",
          "text": [
            "until page 1 books: [{'title': '시간속의 죽음 공간을 통해 만나다 [글누림출판사 도서]', 'author': '저자 : 서지석·고진호'}, {'title': '일본의 소설과 소년범죄', 'author': '저자 : 남상현'}, {'title': '19세기~20세기 초 부산 지역 한시(漢詩) 작가들의 시적(詩的) 교류', 'author': '저자 : 엄경흠'}, {'title': '당어림唐語林 4 (한국연구재단 학술명저번역총서 동양편 335)', 'author': '저자 : 왕당(王讜)'}, {'title': '당어림唐語林 3 (한국연구재단 학술명저번역총서 동양편 334)', 'author': '저자 : 왕당(王讜)'}, {'title': '노화를 극복하는 동물들', 'author': '백승준 '}, {'title': 'Military Sexual Slavery by Imperial Japan', 'author': '정진성 '}, {'title': '관자', 'author': '송영배 '}, {'title': '산과의 대화', 'author': '최덕근 '}, {'title': '나의 학문, 나의 삶 9', 'author': '양창수, 윤정일, 이형식, 장창두, 전경수, 허성도 '}, {'title': '뇌졸중', 'author': ''}, {'title': '뇌종양', 'author': '박철기 '}, {'title': '소설신론(개정판)', 'author': ''}, {'title': '대전환', 'author': '노의근, 박흥식 '}, {'title': 'Forensic Anthropology and Human Identification on the Cases', 'author': '이숭덕, 신동훈 '}, {'title': 'The Politics of Memory in Socialist Vietnam(ePub)', 'author': 'Martin Grossheim '}, {'title': '사회·문화적 텍스트로 읽는 한국 창작 오페라', 'author': '오희숙, 강지영, 지형주 '}, {'title': '평양 자료의 기초 연구: 읍지와 시문(詩文)을 중심으로', 'author': '이은주 '}, {'title': '선물론l마르셀 모스l', 'author': '오명석 '}, {'title': '프래그매틱스', 'author': '백기복 '}, {'title': '두경부암', 'author': '안순현 '}, {'title': '다시 경영을 읽다', 'author': '배종훈 '}, {'title': 'interRAI 체크업(CU) 평가 도구, 부가 도구, 자가보고 도구', 'author': '김홍수 '}, {'title': '기초 스페인어 1', 'author': '손지은, 오민욱, 정원석, 황지희 '}, {'title': '디지털.AI 전환', 'author': '이병기 '}, {'title': '중서회통의경정의', 'author': '김성수 '}, {'title': '근대 일본 종교학의 태동과 분기', 'author': '김태진, 이경미, 이연승, 이예안, 이혜경 '}, {'title': '해금의 세계', 'author': '노은아 '}, {'title': '19세기 후반 한중관계사론', 'author': '김형종 '}, {'title': '실전 미적분학 2', 'author': '윤형성 '}, {'title': '실전 미적분학 1', 'author': '윤형성 '}, {'title': '공손룡자(PDF)', 'author': '염정삼 '}, {'title': '정본완역 두보전집 11: 두보기주시기시역해 4', 'author': '강민호, 강성위, 김만원, 김성곤, 박홍준, 이남종, 이석형, 이영주, 임도현 '}, {'title': '고려 지방제도 성립사(PDF)', 'author': '윤경진 '}, {'title': '한국 현대미술의 모색: 해방 후부터 1970년대까지', 'author': '정형민 '}, {'title': '몽골 패권하의 고려', 'author': '이명미, 정동훈 '}, {'title': '백남준과 테크노아트', 'author': '홍성욱 '}, {'title': '이 땅에, 춤이란 무엇인가(PDF)', 'author': '이애주 '}, {'title': '뼈로 읽는 과거사회(ePUB)', 'author': ''}, {'title': '한국과 조선', 'author': '김병로 '}, {'title': '초원을 나는 닭(PDF)', 'author': '이선화 '}, {'title': '서울대 석학이 알려주는 자녀교육법_AI·디지털 리터러시', 'author': '조영환 '}, {'title': '허위정보와 팩트체크 저널리즘', 'author': '윤석민 '}, {'title': '카프카 코드', 'author': '정항균 '}, {'title': '한국현대문학비평사', 'author': '권영민 '}]\n"
          ]
        },
        {
          "output_type": "stream",
          "name": "stderr",
          "text": [
            "\n",
            "  0%|          | 0/19 [00:00<?, ?it/s]\u001b[A\n",
            "  5%|▌         | 1/19 [00:07<02:16,  7.58s/it]\u001b[A\n",
            " 11%|█         | 2/19 [00:15<02:15,  7.98s/it]\u001b[A\n",
            " 16%|█▌        | 3/19 [00:24<02:11,  8.22s/it]\u001b[A\n",
            " 21%|██        | 4/19 [00:32<02:01,  8.10s/it]\u001b[A\n",
            " 26%|██▋       | 5/19 [00:39<01:51,  7.95s/it]\u001b[A\n",
            " 32%|███▏      | 6/19 [00:46<01:38,  7.57s/it]\u001b[A\n",
            " 37%|███▋      | 7/19 [00:54<01:29,  7.49s/it]\u001b[A\n",
            " 42%|████▏     | 8/19 [01:01<01:20,  7.35s/it]\u001b[A\n",
            " 47%|████▋     | 9/19 [01:08<01:14,  7.46s/it]\u001b[A\n",
            " 53%|█████▎    | 10/19 [01:15<01:06,  7.36s/it]\u001b[A\n",
            " 58%|█████▊    | 11/19 [01:23<00:58,  7.30s/it]\u001b[A\n",
            " 63%|██████▎   | 12/19 [01:30<00:51,  7.29s/it]\u001b[A\n",
            " 68%|██████▊   | 13/19 [01:38<00:44,  7.47s/it]\u001b[A\n",
            " 74%|███████▎  | 14/19 [01:45<00:36,  7.30s/it]\u001b[A\n",
            " 79%|███████▉  | 15/19 [01:52<00:29,  7.38s/it]\u001b[A\n",
            " 84%|████████▍ | 16/19 [01:59<00:21,  7.22s/it]\u001b[A\n",
            " 89%|████████▉ | 17/19 [02:06<00:14,  7.19s/it]\u001b[A\n",
            " 95%|█████████▍| 18/19 [02:14<00:07,  7.26s/it]\u001b[A\n",
            "100%|██████████| 19/19 [02:22<00:00,  7.48s/it]\n",
            "100%|██████████| 3/3 [07:37<00:00, 152.36s/it]"
          ]
        },
        {
          "output_type": "stream",
          "name": "stdout",
          "text": [
            "until page 1 books: [{'title': '시간속의 죽음 공간을 통해 만나다 [글누림출판사 도서]', 'author': '저자 : 서지석·고진호'}, {'title': '일본의 소설과 소년범죄', 'author': '저자 : 남상현'}, {'title': '19세기~20세기 초 부산 지역 한시(漢詩) 작가들의 시적(詩的) 교류', 'author': '저자 : 엄경흠'}, {'title': '당어림唐語林 4 (한국연구재단 학술명저번역총서 동양편 335)', 'author': '저자 : 왕당(王讜)'}, {'title': '당어림唐語林 3 (한국연구재단 학술명저번역총서 동양편 334)', 'author': '저자 : 왕당(王讜)'}, {'title': '노화를 극복하는 동물들', 'author': '백승준 '}, {'title': 'Military Sexual Slavery by Imperial Japan', 'author': '정진성 '}, {'title': '관자', 'author': '송영배 '}, {'title': '산과의 대화', 'author': '최덕근 '}, {'title': '나의 학문, 나의 삶 9', 'author': '양창수, 윤정일, 이형식, 장창두, 전경수, 허성도 '}, {'title': '뇌졸중', 'author': ''}, {'title': '뇌종양', 'author': '박철기 '}, {'title': '소설신론(개정판)', 'author': ''}, {'title': '대전환', 'author': '노의근, 박흥식 '}, {'title': 'Forensic Anthropology and Human Identification on the Cases', 'author': '이숭덕, 신동훈 '}, {'title': 'The Politics of Memory in Socialist Vietnam(ePub)', 'author': 'Martin Grossheim '}, {'title': '사회·문화적 텍스트로 읽는 한국 창작 오페라', 'author': '오희숙, 강지영, 지형주 '}, {'title': '평양 자료의 기초 연구: 읍지와 시문(詩文)을 중심으로', 'author': '이은주 '}, {'title': '선물론l마르셀 모스l', 'author': '오명석 '}, {'title': '프래그매틱스', 'author': '백기복 '}, {'title': '두경부암', 'author': '안순현 '}, {'title': '다시 경영을 읽다', 'author': '배종훈 '}, {'title': 'interRAI 체크업(CU) 평가 도구, 부가 도구, 자가보고 도구', 'author': '김홍수 '}, {'title': '기초 스페인어 1', 'author': '손지은, 오민욱, 정원석, 황지희 '}, {'title': '디지털.AI 전환', 'author': '이병기 '}, {'title': '중서회통의경정의', 'author': '김성수 '}, {'title': '근대 일본 종교학의 태동과 분기', 'author': '김태진, 이경미, 이연승, 이예안, 이혜경 '}, {'title': '해금의 세계', 'author': '노은아 '}, {'title': '19세기 후반 한중관계사론', 'author': '김형종 '}, {'title': '실전 미적분학 2', 'author': '윤형성 '}, {'title': '실전 미적분학 1', 'author': '윤형성 '}, {'title': '공손룡자(PDF)', 'author': '염정삼 '}, {'title': '정본완역 두보전집 11: 두보기주시기시역해 4', 'author': '강민호, 강성위, 김만원, 김성곤, 박홍준, 이남종, 이석형, 이영주, 임도현 '}, {'title': '고려 지방제도 성립사(PDF)', 'author': '윤경진 '}, {'title': '한국 현대미술의 모색: 해방 후부터 1970년대까지', 'author': '정형민 '}, {'title': '몽골 패권하의 고려', 'author': '이명미, 정동훈 '}, {'title': '백남준과 테크노아트', 'author': '홍성욱 '}, {'title': '이 땅에, 춤이란 무엇인가(PDF)', 'author': '이애주 '}, {'title': '뼈로 읽는 과거사회(ePUB)', 'author': ''}, {'title': '한국과 조선', 'author': '김병로 '}, {'title': '초원을 나는 닭(PDF)', 'author': '이선화 '}, {'title': '서울대 석학이 알려주는 자녀교육법_AI·디지털 리터러시', 'author': '조영환 '}, {'title': '허위정보와 팩트체크 저널리즘', 'author': '윤석민 '}, {'title': '카프카 코드', 'author': '정항균 '}, {'title': '한국현대문학비평사', 'author': '권영민 '}, {'title': '티파티 운동과 위대한 미국 운동', 'author': '손병권 '}, {'title': '그 해 여름 안에서의 이별(PDF)', 'author': '서울대학교 대학신문사 '}, {'title': '식물 사람: 철학적 식물학', 'author': '매튜 홀 '}, {'title': '근대 한국 지식인의 여정', 'author': '이혜경 '}, {'title': '서울대 석학이 알려주는 자녀교육법_과학', 'author': '송진웅 '}, {'title': '서울대 석학이 알려주는 자녀교육법_수학(PDF)', 'author': ''}, {'title': '서울대 석학이 알려주는 자녀교육법_과학(PDF)', 'author': ''}, {'title': '서울대 석학이 알려주는 자녀교육법_경영.경제(PDF)', 'author': '김병도 '}, {'title': '중국어문법론15강', 'author': '루젠밍, 선양 '}, {'title': 'Understanding Korean Law', 'author': '서울대학교 아시아태평양법연구소 '}, {'title': '서울대 석학이 알려주는 자녀교육법_자녀와의 소통', 'author': '곽금주 '}, {'title': 'Practical Foundation of Applied Systems Analysis', 'author': '박철욱 '}, {'title': '서사의 단순 형식들', 'author': '임홍배 '}, {'title': '새로 쓴 한국사특강', 'author': '한국사특강편찬위원회 '}, {'title': '한국어 종성 체계의 언어 유형론', 'author': '이진호 '}, {'title': '기초자료로 본 독일통일 20년(PDF)', 'author': ''}, {'title': '서울대 석학이 알려주는 자녀교육법_역사', 'author': '김덕수 '}, {'title': '일본 도시 하층 지역에서의 공공적 실천', 'author': '박지환 '}, {'title': '이야기가 있는 여성의 한시', 'author': '이종묵 '}]\n",
            "[{'title': '시간속의 죽음 공간을 통해 만나다 [글누림출판사 도서]', 'author': '저자 : 서지석·고진호'}, {'title': '일본의 소설과 소년범죄', 'author': '저자 : 남상현'}, {'title': '19세기~20세기 초 부산 지역 한시(漢詩) 작가들의 시적(詩的) 교류', 'author': '저자 : 엄경흠'}, {'title': '당어림唐語林 4 (한국연구재단 학술명저번역총서 동양편 335)', 'author': '저자 : 왕당(王讜)'}, {'title': '당어림唐語林 3 (한국연구재단 학술명저번역총서 동양편 334)', 'author': '저자 : 왕당(王讜)'}, {'title': '노화를 극복하는 동물들', 'author': '백승준 '}, {'title': 'Military Sexual Slavery by Imperial Japan', 'author': '정진성 '}, {'title': '관자', 'author': '송영배 '}, {'title': '산과의 대화', 'author': '최덕근 '}, {'title': '나의 학문, 나의 삶 9', 'author': '양창수, 윤정일, 이형식, 장창두, 전경수, 허성도 '}, {'title': '뇌졸중', 'author': ''}, {'title': '뇌종양', 'author': '박철기 '}, {'title': '소설신론(개정판)', 'author': ''}, {'title': '대전환', 'author': '노의근, 박흥식 '}, {'title': 'Forensic Anthropology and Human Identification on the Cases', 'author': '이숭덕, 신동훈 '}, {'title': 'The Politics of Memory in Socialist Vietnam(ePub)', 'author': 'Martin Grossheim '}, {'title': '사회·문화적 텍스트로 읽는 한국 창작 오페라', 'author': '오희숙, 강지영, 지형주 '}, {'title': '평양 자료의 기초 연구: 읍지와 시문(詩文)을 중심으로', 'author': '이은주 '}, {'title': '선물론l마르셀 모스l', 'author': '오명석 '}, {'title': '프래그매틱스', 'author': '백기복 '}, {'title': '두경부암', 'author': '안순현 '}, {'title': '다시 경영을 읽다', 'author': '배종훈 '}, {'title': 'interRAI 체크업(CU) 평가 도구, 부가 도구, 자가보고 도구', 'author': '김홍수 '}, {'title': '기초 스페인어 1', 'author': '손지은, 오민욱, 정원석, 황지희 '}, {'title': '디지털.AI 전환', 'author': '이병기 '}, {'title': '중서회통의경정의', 'author': '김성수 '}, {'title': '근대 일본 종교학의 태동과 분기', 'author': '김태진, 이경미, 이연승, 이예안, 이혜경 '}, {'title': '해금의 세계', 'author': '노은아 '}, {'title': '19세기 후반 한중관계사론', 'author': '김형종 '}, {'title': '실전 미적분학 2', 'author': '윤형성 '}, {'title': '실전 미적분학 1', 'author': '윤형성 '}, {'title': '공손룡자(PDF)', 'author': '염정삼 '}, {'title': '정본완역 두보전집 11: 두보기주시기시역해 4', 'author': '강민호, 강성위, 김만원, 김성곤, 박홍준, 이남종, 이석형, 이영주, 임도현 '}, {'title': '고려 지방제도 성립사(PDF)', 'author': '윤경진 '}, {'title': '한국 현대미술의 모색: 해방 후부터 1970년대까지', 'author': '정형민 '}, {'title': '몽골 패권하의 고려', 'author': '이명미, 정동훈 '}, {'title': '백남준과 테크노아트', 'author': '홍성욱 '}, {'title': '이 땅에, 춤이란 무엇인가(PDF)', 'author': '이애주 '}, {'title': '뼈로 읽는 과거사회(ePUB)', 'author': ''}, {'title': '한국과 조선', 'author': '김병로 '}, {'title': '초원을 나는 닭(PDF)', 'author': '이선화 '}, {'title': '서울대 석학이 알려주는 자녀교육법_AI·디지털 리터러시', 'author': '조영환 '}, {'title': '허위정보와 팩트체크 저널리즘', 'author': '윤석민 '}, {'title': '카프카 코드', 'author': '정항균 '}, {'title': '한국현대문학비평사', 'author': '권영민 '}, {'title': '티파티 운동과 위대한 미국 운동', 'author': '손병권 '}, {'title': '그 해 여름 안에서의 이별(PDF)', 'author': '서울대학교 대학신문사 '}, {'title': '식물 사람: 철학적 식물학', 'author': '매튜 홀 '}, {'title': '근대 한국 지식인의 여정', 'author': '이혜경 '}, {'title': '서울대 석학이 알려주는 자녀교육법_과학', 'author': '송진웅 '}, {'title': '서울대 석학이 알려주는 자녀교육법_수학(PDF)', 'author': ''}, {'title': '서울대 석학이 알려주는 자녀교육법_과학(PDF)', 'author': ''}, {'title': '서울대 석학이 알려주는 자녀교육법_경영.경제(PDF)', 'author': '김병도 '}, {'title': '중국어문법론15강', 'author': '루젠밍, 선양 '}, {'title': 'Understanding Korean Law', 'author': '서울대학교 아시아태평양법연구소 '}, {'title': '서울대 석학이 알려주는 자녀교육법_자녀와의 소통', 'author': '곽금주 '}, {'title': 'Practical Foundation of Applied Systems Analysis', 'author': '박철욱 '}, {'title': '서사의 단순 형식들', 'author': '임홍배 '}, {'title': '새로 쓴 한국사특강', 'author': '한국사특강편찬위원회 '}, {'title': '한국어 종성 체계의 언어 유형론', 'author': '이진호 '}, {'title': '기초자료로 본 독일통일 20년(PDF)', 'author': ''}, {'title': '서울대 석학이 알려주는 자녀교육법_역사', 'author': '김덕수 '}, {'title': '일본 도시 하층 지역에서의 공공적 실천', 'author': '박지환 '}, {'title': '이야기가 있는 여성의 한시', 'author': '이종묵 '}]\n"
          ]
        },
        {
          "output_type": "stream",
          "name": "stderr",
          "text": [
            "\n"
          ]
        }
      ]
    },
    {
      "cell_type": "code",
      "source": [
        "import pandas as pd\n",
        "df = pd.DataFrame(books)\n",
        "df.to_csv('books.csv')"
      ],
      "metadata": {
        "id": "v5FIte5rtNPH"
      },
      "execution_count": null,
      "outputs": []
    },
    {
      "cell_type": "code",
      "source": [
        "!cp '/content/books.csv' '/content/drive/MyDrive/데이터톤2024/books.csv'"
      ],
      "metadata": {
        "id": "UcgE9VR2xplF"
      },
      "execution_count": null,
      "outputs": []
    }
  ]
}